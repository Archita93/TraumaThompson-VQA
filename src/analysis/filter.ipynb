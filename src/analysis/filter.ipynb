{
 "cells": [
  {
   "cell_type": "markdown",
   "metadata": {},
   "source": [
    "#### Data Preparation - Test and Train\n",
    "\n",
    "This notebooks does the following:\n",
    "\n",
    "- Iterates through all folders in the frames/ directory and collect all image filenames in a list. \n",
    "\n",
    "- Defines a helper function that checks whether each row in the DataFrame corresponds to a sampled image (based on video_id and frame) allowing us to align with the sampled list of frames. \n",
    "\n",
    "- Splits the filtered dataset into training and testing sets (80/20 split) and save them to CSV files."
   ]
  },
  {
   "cell_type": "code",
   "execution_count": null,
   "metadata": {},
   "outputs": [],
   "source": [
    "import os\n",
    "import pandas as pd\n",
    "\n",
    "# Path to the frames folder\n",
    "frames_folder = \"frames\"\n",
    "df = pd.read_csv(\"data/combined-df.csv\")\n",
    "\n",
    "# List all video folders\n",
    "video_folders = os.listdir(frames_folder)\n",
    "\n",
    "# Create a list of all sampled image paths\n",
    "sampled_images = []\n",
    "for video in video_folders:\n",
    "    video_path = os.path.join(frames_folder, video)\n",
    "    if os.path.isdir(video_path):\n",
    "        for image in os.listdir(video_path):\n",
    "            sampled_images.append(os.path.join(video, image))\n",
    "\n",
    "# # Filter the DataFrame based on video_id and frame\n",
    "def is_image_in_sample(row):\n",
    "    video_id = row['video_id']\n",
    "    frame = row['frame']\n",
    "    image_name = f\"{video_id}_frame{frame}.jpg\"\n",
    "    return any(image_name in img for img in sampled_images)\n",
    "\n",
    "# # Assuming your DataFrame has columns 'video_id' and 'frame'\n",
    "filtered_df = df[df.apply(is_image_in_sample, axis=1)].reset_index(drop=True)\n"
   ]
  },
  {
   "cell_type": "code",
   "execution_count": null,
   "metadata": {},
   "outputs": [],
   "source": [
    "filtered_df.to_csv(\"data/filtered-sampled-df.csv\", index=False)"
   ]
  },
  {
   "cell_type": "markdown",
   "metadata": {},
   "source": [
    "Group the filtered DataFrame by video_id and count the number of frames for each video."
   ]
  },
  {
   "cell_type": "code",
   "execution_count": 18,
   "metadata": {},
   "outputs": [
    {
     "name": "stdout",
     "output_type": "stream",
     "text": [
      "   video_id  frame_count\n",
      "0      CT11           20\n",
      "1      CT12           20\n",
      "2      CT13           20\n",
      "3      CT14           20\n",
      "4      CT15           20\n",
      "5      CT18           20\n",
      "6      CT19           20\n",
      "7       CT2           20\n",
      "8      CT22           20\n",
      "9      CT25           20\n",
      "10     CT26           20\n",
      "11     CT27           20\n",
      "12     CT28           20\n",
      "13     CT29           20\n",
      "14      CT3           20\n",
      "15      CT5           20\n",
      "16      CT6           20\n",
      "17      CT8           20\n",
      "18   Cric11           20\n",
      "19   Cric12           20\n",
      "20   Cric13           20\n",
      "21   Cric14           20\n",
      "22   Cric15           17\n",
      "23   Cric18           20\n",
      "24   Cric21           20\n",
      "25   Cric22           20\n",
      "26   Cric23           20\n",
      "27   Cric25           20\n",
      "28   Cric26           20\n",
      "29   Cric27           20\n",
      "30   Cric28           20\n",
      "31   Cric33           20\n",
      "32   Cric34           20\n",
      "33   Cric35           20\n",
      "34   Cric37           20\n",
      "35    Cric5           20\n",
      "36    Cric6           20\n",
      "37    Cric8           20\n",
      "38     IO11           20\n",
      "39     IO12           20\n",
      "40     IO13           20\n",
      "41     IO14           20\n",
      "42     IO15           20\n",
      "43     IO18           20\n",
      "44     IO19           20\n",
      "45      IO2           20\n",
      "46     IO20           20\n",
      "47     IO21           20\n",
      "48     IO22           20\n",
      "49     IO23           20\n",
      "50     IO25           20\n",
      "51     IO26           20\n",
      "52     IO27           20\n",
      "53     IO28           20\n",
      "54     IO29           20\n",
      "55      IO3           20\n",
      "56     IO33           20\n",
      "57     IO34           20\n",
      "58     IO35           20\n",
      "59      IO5           20\n",
      "60      IO6           20\n",
      "61      IO8           20\n",
      "62     ND11           20\n",
      "63     ND12           20\n",
      "64     ND13           20\n",
      "65     ND14           20\n",
      "66     ND15           20\n",
      "67     ND18           20\n",
      "68     ND19           20\n",
      "69      ND2           20\n",
      "70     ND21           20\n",
      "71     ND25           20\n",
      "72     ND26           20\n",
      "73     ND27           20\n",
      "74     ND28           20\n",
      "75     ND29           20\n",
      "76      ND3           20\n",
      "77     ND33           20\n",
      "78      ND5           20\n",
      "79      ND6           20\n",
      "80      ND8           20\n",
      "81     TQ11           20\n",
      "82     TQ12           20\n",
      "83     TQ13           20\n",
      "84     TQ18           20\n",
      "85     TQ19           20\n",
      "86      TQ2           20\n",
      "87     TQ20           20\n",
      "88     TQ21           20\n",
      "89     TQ22           20\n",
      "90     TQ23           20\n",
      "91     TQ25           20\n",
      "92     TQ26           20\n",
      "93     TQ27           20\n",
      "94      TQ3           20\n",
      "95     TQ33           20\n",
      "96     TQ34           20\n",
      "97     TQ35           20\n",
      "98      TQ5           20\n",
      "99      TQ6           20\n"
     ]
    }
   ],
   "source": [
    "frame_counts = filtered_df.groupby('video_id').size().reset_index(name='frame_count')\n",
    "pd.set_option('display.max_rows', None)\n",
    "\n",
    "# Print the frame_counts DataFrame\n",
    "print(frame_counts)"
   ]
  },
  {
   "cell_type": "markdown",
   "metadata": {},
   "source": [
    "Split the filtered dataset into training and testing sets (80/20 split)"
   ]
  },
  {
   "cell_type": "code",
   "execution_count": null,
   "metadata": {},
   "outputs": [],
   "source": [
    "from sklearn.model_selection import train_test_split\n",
    "\n",
    "# Split the filtered DataFrame into train and test sets\n",
    "train_df, test_df = train_test_split(filtered_df, test_size=0.2, random_state=42)\n",
    "train_df.to_csv(\"../data_csv/train_data.csv\", index=False)\n",
    "test_df.to_csv(\"../data_csv/test_data.csv\", index=False)"
   ]
  }
 ],
 "metadata": {
  "kernelspec": {
   "display_name": "Python 3",
   "language": "python",
   "name": "python3"
  },
  "language_info": {
   "codemirror_mode": {
    "name": "ipython",
    "version": 3
   },
   "file_extension": ".py",
   "mimetype": "text/x-python",
   "name": "python",
   "nbconvert_exporter": "python",
   "pygments_lexer": "ipython3",
   "version": "3.12.9"
  }
 },
 "nbformat": 4,
 "nbformat_minor": 2
}
